{
 "cells": [
  {
   "cell_type": "code",
   "execution_count": 2,
   "metadata": {},
   "outputs": [
    {
     "name": "stdout",
     "output_type": "stream",
     "text": [
      "This is bootstrap number 1/1\n",
      "# of true pairs 226\n",
      "# of true pairs 105\n"
     ]
    },
    {
     "ename": "KeyboardInterrupt",
     "evalue": "",
     "output_type": "error",
     "traceback": [
      "\u001b[1;31m---------------------------------------------------------------------------\u001b[0m",
      "\u001b[1;31mKeyboardInterrupt\u001b[0m                         Traceback (most recent call last)",
      "Cell \u001b[1;32mIn[2], line 9\u001b[0m\n\u001b[0;32m      7\u001b[0m \u001b[38;5;28;01mfrom\u001b[39;00m \u001b[38;5;21;01mLSH\u001b[39;00m \u001b[38;5;28;01mimport\u001b[39;00m \u001b[38;5;241m*\u001b[39m\n\u001b[0;32m      8\u001b[0m \u001b[38;5;28;01mimport\u001b[39;00m \u001b[38;5;21;01mmatplotlib\u001b[39;00m\u001b[38;5;21;01m.\u001b[39;00m\u001b[38;5;21;01mpyplot\u001b[39;00m \u001b[38;5;28;01mas\u001b[39;00m \u001b[38;5;21;01mplt\u001b[39;00m\n\u001b[1;32m----> 9\u001b[0m \u001b[38;5;28;01mfrom\u001b[39;00m \u001b[38;5;21;01mevaluation\u001b[39;00m \u001b[38;5;28;01mimport\u001b[39;00m \u001b[38;5;241m*\u001b[39m\n\u001b[0;32m     10\u001b[0m \u001b[38;5;28;01mfrom\u001b[39;00m \u001b[38;5;21;01mmodel_words_baseline\u001b[39;00m \u001b[38;5;28;01mimport\u001b[39;00m \u001b[38;5;241m*\u001b[39m\n\u001b[0;32m     11\u001b[0m \u001b[38;5;66;03m# from main import *\u001b[39;00m\n",
      "File \u001b[1;32mc:\\Users\\timod\\Desktop\\Msc Econometrics BAQM\\2_CS\\assignment\\indiv-assignment\\CS-indiv-assignment\\evaluation.py:278\u001b[0m\n\u001b[0;32m    274\u001b[0m     \u001b[38;5;28;01mreturn\u001b[39;00m mean_result\n\u001b[0;32m    276\u001b[0m df \u001b[38;5;241m=\u001b[39m json_to_df(\u001b[38;5;124m\"\u001b[39m\u001b[38;5;124mTVs-all-merged-cleaned-brands.json\u001b[39m\u001b[38;5;124m\"\u001b[39m)\n\u001b[1;32m--> 278\u001b[0m bs_res \u001b[38;5;241m=\u001b[39m \u001b[43mbootstrap_lsh\u001b[49m\u001b[43m(\u001b[49m\u001b[43mdf\u001b[49m\u001b[43m,\u001b[49m\u001b[43m \u001b[49m\u001b[38;5;241;43m1600\u001b[39;49m\u001b[43m,\u001b[49m\u001b[43m \u001b[49m\u001b[38;5;241;43m0.7\u001b[39;49m\u001b[43m,\u001b[49m\u001b[43m \u001b[49m\u001b[38;5;241;43m1\u001b[39;49m\u001b[43m)\u001b[49m\n\u001b[0;32m    279\u001b[0m \u001b[38;5;28mprint\u001b[39m(bs_res)\n\u001b[0;32m    282\u001b[0m \u001b[38;5;66;03m# print(bs_res)\u001b[39;00m\n",
      "File \u001b[1;32mc:\\Users\\timod\\Desktop\\Msc Econometrics BAQM\\2_CS\\assignment\\indiv-assignment\\CS-indiv-assignment\\evaluation.py:249\u001b[0m, in \u001b[0;36mbootstrap_lsh\u001b[1;34m(df, k, split_ratio, n_bootstraps)\u001b[0m\n\u001b[0;32m    246\u001b[0m n_all_possible_pairs \u001b[38;5;241m=\u001b[39m P\u001b[38;5;241m*\u001b[39m(P\u001b[38;5;241m-\u001b[39m\u001b[38;5;241m1\u001b[39m)\u001b[38;5;241m/\u001b[39m\u001b[38;5;241m2\u001b[39m\n\u001b[0;32m    248\u001b[0m bands, rows, t_values \u001b[38;5;241m=\u001b[39m get_bands(k)\n\u001b[1;32m--> 249\u001b[0m binary_matrix_train \u001b[38;5;241m=\u001b[39m \u001b[43mcreate_binary_vector\u001b[49m\u001b[43m(\u001b[49m\u001b[43mdf_train\u001b[49m\u001b[43m)\u001b[49m\n\u001b[0;32m    250\u001b[0m signature_matrix \u001b[38;5;241m=\u001b[39m min_hash(binary_matrix_train, k)\n\u001b[0;32m    252\u001b[0m result_lsh \u001b[38;5;241m=\u001b[39m []\n",
      "File \u001b[1;32mc:\\Users\\timod\\Desktop\\Msc Econometrics BAQM\\2_CS\\assignment\\indiv-assignment\\CS-indiv-assignment\\model_words.py:177\u001b[0m, in \u001b[0;36mcreate_binary_vector\u001b[1;34m(df)\u001b[0m\n\u001b[0;32m    174\u001b[0m \u001b[38;5;28;01mfor\u001b[39;00m i, word \u001b[38;5;129;01min\u001b[39;00m \u001b[38;5;28menumerate\u001b[39m(union_title_values):\n\u001b[0;32m    175\u001b[0m     \u001b[38;5;28;01mfor\u001b[39;00m j \u001b[38;5;129;01min\u001b[39;00m \u001b[38;5;28mrange\u001b[39m(P):\n\u001b[0;32m    176\u001b[0m         \u001b[38;5;66;03m# Check if the word exists in df[\"model_words_title\"][j]\u001b[39;00m\n\u001b[1;32m--> 177\u001b[0m         \u001b[38;5;28;01mif\u001b[39;00m (word \u001b[38;5;129;01min\u001b[39;00m df[\u001b[38;5;124m\"\u001b[39m\u001b[38;5;124mmodel_words_title\u001b[39m\u001b[38;5;124m\"\u001b[39m]\u001b[38;5;241m.\u001b[39miloc[j]) \u001b[38;5;129;01mor\u001b[39;00m (word \u001b[38;5;129;01min\u001b[39;00m \u001b[43mdf\u001b[49m\u001b[43m[\u001b[49m\u001b[38;5;124;43m\"\u001b[39;49m\u001b[38;5;124;43mmodel_words_features\u001b[39;49m\u001b[38;5;124;43m\"\u001b[39;49m\u001b[43m]\u001b[49m\u001b[43m[\u001b[49m\u001b[43mj\u001b[49m\u001b[43m]\u001b[49m):\n\u001b[0;32m    178\u001b[0m             binary_matrix[i, j] \u001b[38;5;241m=\u001b[39m \u001b[38;5;241m1\u001b[39m\n\u001b[0;32m    180\u001b[0m \u001b[38;5;28mprint\u001b[39m(\u001b[38;5;124mf\u001b[39m\u001b[38;5;124m\"\u001b[39m\u001b[38;5;124mBinary matrix shape = \u001b[39m\u001b[38;5;132;01m{\u001b[39;00mbinary_matrix\u001b[38;5;241m.\u001b[39mshape\u001b[38;5;132;01m}\u001b[39;00m\u001b[38;5;124m\"\u001b[39m)\n",
      "File \u001b[1;32mc:\\Users\\timod\\Desktop\\Msc Econometrics BAQM\\2_CS\\assignment\\indiv-assignment\\CS-indiv-assignment\\.venv\\Lib\\site-packages\\pandas\\core\\series.py:1121\u001b[0m, in \u001b[0;36mSeries.__getitem__\u001b[1;34m(self, key)\u001b[0m\n\u001b[0;32m   1118\u001b[0m     \u001b[38;5;28;01mreturn\u001b[39;00m \u001b[38;5;28mself\u001b[39m\u001b[38;5;241m.\u001b[39m_values[key]\n\u001b[0;32m   1120\u001b[0m \u001b[38;5;28;01melif\u001b[39;00m key_is_scalar:\n\u001b[1;32m-> 1121\u001b[0m     \u001b[38;5;28;01mreturn\u001b[39;00m \u001b[38;5;28;43mself\u001b[39;49m\u001b[38;5;241;43m.\u001b[39;49m\u001b[43m_get_value\u001b[49m\u001b[43m(\u001b[49m\u001b[43mkey\u001b[49m\u001b[43m)\u001b[49m\n\u001b[0;32m   1123\u001b[0m \u001b[38;5;66;03m# Convert generator to list before going through hashable part\u001b[39;00m\n\u001b[0;32m   1124\u001b[0m \u001b[38;5;66;03m# (We will iterate through the generator there to check for slices)\u001b[39;00m\n\u001b[0;32m   1125\u001b[0m \u001b[38;5;28;01mif\u001b[39;00m is_iterator(key):\n",
      "File \u001b[1;32mc:\\Users\\timod\\Desktop\\Msc Econometrics BAQM\\2_CS\\assignment\\indiv-assignment\\CS-indiv-assignment\\.venv\\Lib\\site-packages\\pandas\\core\\series.py:1237\u001b[0m, in \u001b[0;36mSeries._get_value\u001b[1;34m(self, label, takeable)\u001b[0m\n\u001b[0;32m   1234\u001b[0m     \u001b[38;5;28;01mreturn\u001b[39;00m \u001b[38;5;28mself\u001b[39m\u001b[38;5;241m.\u001b[39m_values[label]\n\u001b[0;32m   1236\u001b[0m \u001b[38;5;66;03m# Similar to Index.get_value, but we do not fall back to positional\u001b[39;00m\n\u001b[1;32m-> 1237\u001b[0m loc \u001b[38;5;241m=\u001b[39m \u001b[38;5;28;43mself\u001b[39;49m\u001b[38;5;241;43m.\u001b[39;49m\u001b[43mindex\u001b[49m\u001b[38;5;241;43m.\u001b[39;49m\u001b[43mget_loc\u001b[49m\u001b[43m(\u001b[49m\u001b[43mlabel\u001b[49m\u001b[43m)\u001b[49m\n\u001b[0;32m   1239\u001b[0m \u001b[38;5;28;01mif\u001b[39;00m is_integer(loc):\n\u001b[0;32m   1240\u001b[0m     \u001b[38;5;28;01mreturn\u001b[39;00m \u001b[38;5;28mself\u001b[39m\u001b[38;5;241m.\u001b[39m_values[loc]\n",
      "File \u001b[1;32mc:\\Users\\timod\\Desktop\\Msc Econometrics BAQM\\2_CS\\assignment\\indiv-assignment\\CS-indiv-assignment\\.venv\\Lib\\site-packages\\pandas\\core\\indexes\\range.py:410\u001b[0m, in \u001b[0;36mRangeIndex.get_loc\u001b[1;34m(self, key)\u001b[0m\n\u001b[0;32m    408\u001b[0m \u001b[38;5;129m@doc\u001b[39m(Index\u001b[38;5;241m.\u001b[39mget_loc)\n\u001b[0;32m    409\u001b[0m \u001b[38;5;28;01mdef\u001b[39;00m \u001b[38;5;21mget_loc\u001b[39m(\u001b[38;5;28mself\u001b[39m, key) \u001b[38;5;241m-\u001b[39m\u001b[38;5;241m>\u001b[39m \u001b[38;5;28mint\u001b[39m:\n\u001b[1;32m--> 410\u001b[0m     \u001b[38;5;28;01mif\u001b[39;00m \u001b[43mis_integer\u001b[49m\u001b[43m(\u001b[49m\u001b[43mkey\u001b[49m\u001b[43m)\u001b[49m \u001b[38;5;129;01mor\u001b[39;00m (is_float(key) \u001b[38;5;129;01mand\u001b[39;00m key\u001b[38;5;241m.\u001b[39mis_integer()):\n\u001b[0;32m    411\u001b[0m         new_key \u001b[38;5;241m=\u001b[39m \u001b[38;5;28mint\u001b[39m(key)\n\u001b[0;32m    412\u001b[0m         \u001b[38;5;28;01mtry\u001b[39;00m:\n",
      "\u001b[1;31mKeyboardInterrupt\u001b[0m: "
     ]
    }
   ],
   "source": [
    "import pandas as pd\n",
    "from itertools import combinations\n",
    "import random\n",
    "from msm import *\n",
    "from min_hash import *\n",
    "from model_words import *\n",
    "from LSH import *\n",
    "import matplotlib.pyplot as plt\n",
    "from evaluation import *\n",
    "from model_words_baseline import *\n",
    "# from main import *\n"
   ]
  }
 ],
 "metadata": {
  "kernelspec": {
   "display_name": "Python (venv)",
   "language": "python",
   "name": "venv"
  },
  "language_info": {
   "codemirror_mode": {
    "name": "ipython",
    "version": 3
   },
   "file_extension": ".py",
   "mimetype": "text/x-python",
   "name": "python",
   "nbconvert_exporter": "python",
   "pygments_lexer": "ipython3",
   "version": "3.13.0"
  }
 },
 "nbformat": 4,
 "nbformat_minor": 2
}
